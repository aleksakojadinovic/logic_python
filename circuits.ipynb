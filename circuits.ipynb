{
 "cells": [
  {
   "cell_type": "code",
   "execution_count": 1,
   "metadata": {
    "id": "2kmA_lo62--1"
   },
   "outputs": [],
   "source": [
    "import numpy as np\n",
    "import copy"
   ]
  },
  {
   "cell_type": "code",
   "execution_count": 2,
   "metadata": {
    "id": "C72xPwg2p6KQ"
   },
   "outputs": [],
   "source": [
    "### Something that reacts to a signal\n",
    "class SignalSensitive:\n",
    "  # Gets triggered when the `at_index`-th\n",
    "  # input of a component\n",
    "  # receives a signal\n",
    "  def on_input_changed(self, at_index, signal):\n",
    "    raise NotImplementedError()\n",
    "\n",
    "### Info about an outgoing connection\n",
    "### The component is connected to the `at_index`-th input\n",
    "### of `to_component`\n",
    "class ConnectionInfo:\n",
    "  # to_index        :: Int\n",
    "  # to_component    :: Component -- or SignalSensitive\n",
    "  def __init__(self, to_index, to_component):\n",
    "    self.to_index = to_index\n",
    "    self.to_component = to_component\n",
    "\n",
    "  def notify(self, signal):\n",
    "    if self.to_component == None:\n",
    "      return\n",
    "    self.to_component.on_input_changed(self.to_index,\n",
    "                                       signal)\n",
    "\n",
    "### Placeholder for empty slots\n",
    "NoConnection = ConnectionInfo(to_index=-1,\n",
    "                              to_component=None)"
   ]
  },
  {
   "cell_type": "code",
   "execution_count": 3,
   "metadata": {
    "id": "IR9rb9qInQGn"
   },
   "outputs": [],
   "source": [
    "class Component(SignalSensitive):\n",
    "  # n_input_slots                 :: Int       \n",
    "  # n_output_slots                :: Int\n",
    "  # input_slots                   :: List<Signal>\n",
    "  # output_slots                  :: List<Signal>\n",
    "  # connections                   :: List<ConnectionInfo>\n",
    "  def __init__(self,\n",
    "               n_input_slots,\n",
    "               n_output_slots,\n",
    "               name='Unknown'):\n",
    "    self.n_input_slots = n_input_slots\n",
    "    self.n_output_slots = n_output_slots\n",
    "    self.input_slots = [False for _ in range(n_input_slots)]\n",
    "    self.output_slots = [False for _ in range(n_output_slots)]\n",
    "    self.connections = [NoConnection for _ in range(n_output_slots)]  \n",
    "    self.input_connections = [None for _ in range(n_input_slots)]\n",
    "\n",
    "  def connect_at_index(self, my_output_index, neighbor_input_index, neighbor):\n",
    "    if self.connections[my_output_index] != NoConnection:\n",
    "      raise ValueError(\"This slot is already connected to something\")\n",
    "    \n",
    "    self.connections[my_output_index] = ConnectionInfo(to_index=neighbor_input_index,\n",
    "                                                       to_component=neighbor)\n",
    "    neighbor.input_connections[neighbor_input_index] = self    \n",
    "    self.connections[my_output_index].notify(self.output_slots[my_output_index])  \n",
    "\n",
    "  def disconnect_at_index(self, my_output_index):\n",
    "    ### Sends an empty signal\n",
    "    self.connections[my_output_index].notify(False)\n",
    "    self.connections[my_output_index] = NoConnection"
   ]
  },
  {
   "cell_type": "code",
   "execution_count": 4,
   "metadata": {
    "id": "bpaqDRbS3IbI"
   },
   "outputs": [],
   "source": [
    "class Wire(Component):\n",
    "  def __init__(self):\n",
    "    super(Wire, self).__init__(n_input_slots=1,\n",
    "                               n_output_slots=1)\n",
    "\n",
    "  def resize(self, n):\n",
    "    if n == self.n_output_slots:\n",
    "      return\n",
    "    if n <= 0:\n",
    "      n = 1\n",
    "    if n < self.n_output_slots:\n",
    "      self.output_slots = self.output_slots[:n]\n",
    "      ## TODO: Traverse from n-th and send empty signal\n",
    "    else:\n",
    "      self.output_slots = self.output_slots + [False for _ in range(n - self.n_output_slots)]\n",
    "    self.n_output_slots = n\n",
    "  \n",
    "  def on_input_changed(self, at_index, signal):\n",
    "    if self.input_slots[at_index] == signal:\n",
    "      return\n",
    "    \n",
    "    self.input_slots[at_index] = signal\n",
    "    for conn in self.connections:\n",
    "      conn.notify(signal)\n",
    "  \n",
    "  def serialize(self):\n",
    "    return self.input_connections[0].serialize()\n",
    "\n",
    "  def __str__(self):\n",
    "    return f'A wire with {self.n_output_slots} output slots.'\n"
   ]
  },
  {
   "cell_type": "code",
   "execution_count": 5,
   "metadata": {
    "id": "JHNB0ToMwes0"
   },
   "outputs": [],
   "source": [
    "### Two inputs, one output\n",
    "class BinaryGate(Component):\n",
    "  # op :: (Signal, Signal) -> Signal\n",
    "  def __init__(self, op):\n",
    "    super(BinaryGate, self).__init__(n_input_slots=2,\n",
    "                                     n_output_slots=1)\n",
    "    self.op = op\n",
    "\n",
    "  def i1(self):\n",
    "    return self.input_slots[0]\n",
    "\n",
    "  def i2(self):\n",
    "    return self.input_slots[1]\n",
    "\n",
    "  def o(self):\n",
    "    return self.output_slots[0]\n",
    "\n",
    "  # wrapper\n",
    "  def connect_output(self, to_index, to_component):\n",
    "    self.connect_at_index(0, to_index, to_component)\n",
    "\n",
    "  def on_input_changed(self, at_index, signal):\n",
    "    if self.input_slots[at_index] == signal:\n",
    "      return\n",
    "    self.input_slots[at_index] = signal\n",
    "    new_output = self.op(self.i1(), self.i2())\n",
    "    if new_output == self.o():\n",
    "      return\n",
    "    self.output_slots[0] = new_output\n",
    "    for conn in self.connections:\n",
    "      conn.notify(new_output)\n"
   ]
  },
  {
   "cell_type": "code",
   "execution_count": 6,
   "metadata": {
    "id": "faXXRLW81FQo"
   },
   "outputs": [],
   "source": [
    "class AndGate(BinaryGate):\n",
    "  def __init__(self):\n",
    "    super(AndGate, self).__init__(op = lambda a, b: a and b)\n",
    "\n",
    "  def serialize(self):\n",
    "    return self.input_connections[0].serialize() + \" && \" + self.input_connections[1].serialize()\n",
    "  \n",
    "\n",
    "\n",
    "class OrGate(BinaryGate):\n",
    "  def __init__(self):\n",
    "    super(OrGate, self).__init__(op = lambda a, b: a or b)\n",
    "\n",
    "class XorGate(BinaryGate):\n",
    "  def __init__(self):\n",
    "    super(XorGate, self).__init__(op = lambda a, b: a != b)"
   ]
  },
  {
   "cell_type": "code",
   "execution_count": 7,
   "metadata": {
    "id": "x8Y_3Dzi1yA5"
   },
   "outputs": [],
   "source": [
    "class Pin(Component):\n",
    "  def __init__(self, val=False):\n",
    "    super(Pin, self).__init__(n_input_slots=0,\n",
    "                              n_output_slots=1)\n",
    "    self.output_slots[0] = val\n",
    "  \n",
    "  def flip(self):\n",
    "    self.output_slots[0] = not self.output_slots[0]\n",
    "    for conn in self.connections:\n",
    "      conn.notify(self.output_slots[0])\n",
    "\n",
    "  def serialize(self):\n",
    "    return self.name\n",
    "  \n",
    "  def set_val(self, val):\n",
    "    if self.output_slots[0] == val:\n",
    "      return\n",
    "    self.flip()"
   ]
  },
  {
   "cell_type": "code",
   "execution_count": 8,
   "metadata": {
    "id": "_8dit1wB3PO9"
   },
   "outputs": [],
   "source": [
    "class LightBulb(Component):\n",
    "  def __init__(self):\n",
    "    super(LightBulb, self).__init__(n_input_slots=1,\n",
    "                                    n_output_slots=1)\n",
    "  \n",
    "  def connect_at_index(self, at_index, to_component):\n",
    "    raise ValueError(\"Lightbulb cannot be connected to anything\")\n",
    "\n",
    "  def serialize(self):\n",
    "    return self.input_connections[0].serialize()\n",
    "\n",
    "  def on_input_changed(self, at_index, signal):\n",
    "    self.input_slots[at_index] = signal\n",
    "    self.output_slots[at_index] = signal"
   ]
  },
  {
   "cell_type": "code",
   "execution_count": 9,
   "metadata": {
    "id": "jzXdx_aHt2fW"
   },
   "outputs": [],
   "source": [
    "class CompositeComponent(Component):\n",
    "  def __init__(self, pins, lightbulbs):\n",
    "    super(CompositeComponent, self).__init__(n_input_slots=len(pins),\n",
    "                                             n_output_slots=len(lightbulbs))\n",
    "    self.pins = [copy.deepcopy(p) for p in pins]\n",
    "    self.lightbulbs = [copy.deepcopy(l) for l in lightbulbs]\n",
    "    # self.internal_components = internal_components\n",
    "\n",
    "  def flip_pin(self, at_index):\n",
    "    self.pins[at_index].flip()\n",
    "\n",
    "  def get_output(self, at_index):\n",
    "    return self.lightbulbs[at_index].output_slots[0]"
   ]
  },
  {
   "cell_type": "code",
   "execution_count": null,
   "metadata": {
    "id": "z81jsCBLv4Je"
   },
   "outputs": [],
   "source": []
  },
  {
   "cell_type": "markdown",
   "metadata": {
    "id": "CM5BSW_J3xiK"
   },
   "source": [
    "![image.png](https://i.stack.imgur.com/TpBpr.gif)"
   ]
  },
  {
   "cell_type": "code",
   "execution_count": 10,
   "metadata": {
    "colab": {
     "base_uri": "https://localhost:8080/"
    },
    "id": "w44Ryuxv4VRI",
    "outputId": "cc8815de-39f5-4753-f0b3-8f64166e5dd8"
   },
   "outputs": [
    {
     "name": "stdout",
     "output_type": "stream",
     "text": [
      "AND1:  [False]\n",
      "LB:  [False]\n",
      "AND1:  [False]\n",
      "LB:  [False]\n",
      "AND1:  [True]\n",
      "LB:  [True]\n"
     ]
    }
   ],
   "source": [
    "A0 = Pin(False)\n",
    "A0.name = 'A0'\n",
    "A1 = Pin(False)\n",
    "A1.name = 'A1'\n",
    "\n",
    "and1 = AndGate()\n",
    "\n",
    "w1 = Wire()\n",
    "w1.resize(2)\n",
    "\n",
    "w2 = Wire()\n",
    "w2.resize(2)\n",
    "\n",
    "A0.connect_at_index(my_output_index=0,\n",
    "                    neighbor_input_index=0,\n",
    "                    neighbor=w1)\n",
    "\n",
    "A1.connect_at_index(my_output_index=0,\n",
    "                    neighbor_input_index=0,\n",
    "                    neighbor=w2)\n",
    "\n",
    "w1.connect_at_index(my_output_index=0,\n",
    "                    neighbor_input_index=0,\n",
    "                    neighbor=and1)\n",
    "\n",
    "w2.connect_at_index(my_output_index=0,\n",
    "                    neighbor_input_index=1,\n",
    "                    neighbor=and1)\n",
    "\n",
    "lb = LightBulb()\n",
    "w3 = Wire()\n",
    "and1.connect_at_index(0, 0, w3)\n",
    "w3.connect_at_index(0, 0, lb)\n",
    "\n",
    "print('AND1: ', and1.output_slots)\n",
    "print('LB: ', lb.output_slots)\n",
    "A0.flip()\n",
    "print('AND1: ', and1.output_slots)\n",
    "print('LB: ', lb.output_slots)\n",
    "A1.flip()\n",
    "print('AND1: ', and1.output_slots)\n",
    "print('LB: ', lb.output_slots)\n",
    "\n",
    "cc = CompositeComponent(pins=[A0, A1], \n",
    "                        lightbulbs= [lb])\n"
   ]
  },
  {
   "cell_type": "code",
   "execution_count": 11,
   "metadata": {
    "colab": {
     "base_uri": "https://localhost:8080/"
    },
    "id": "tVqEpebAv5H4",
    "outputId": "60a918d2-90fa-4f98-a2e0-65b5e9fa60c2"
   },
   "outputs": [
    {
     "name": "stdout",
     "output_type": "stream",
     "text": [
      "True xor True = True\n",
      "False xor True = True\n"
     ]
    }
   ],
   "source": [
    "print(f'{cc.pins[0].output_slots[0]} xor {cc.pins[1].output_slots[0]} = {cc.get_output(0)}')\n",
    "cc.flip_pin(0)\n",
    "print(f'{cc.pins[0].output_slots[0]} xor {cc.pins[1].output_slots[0]} = {cc.get_output(0)}')"
   ]
  },
  {
   "cell_type": "code",
   "execution_count": 12,
   "metadata": {
    "colab": {
     "base_uri": "https://localhost:8080/",
     "height": 35
    },
    "id": "aR4GTqmQreya",
    "outputId": "c4d7575e-3ddb-4132-b2e8-56d90894b3c5"
   },
   "outputs": [
    {
     "data": {
      "text/plain": [
       "'A0 && A1'"
      ]
     },
     "execution_count": 12,
     "metadata": {},
     "output_type": "execute_result"
    }
   ],
   "source": [
    "lb.serialize()"
   ]
  }
 ],
 "metadata": {
  "colab": {
   "collapsed_sections": [],
   "name": "LOGIKA.ipynb",
   "provenance": []
  },
  "kernelspec": {
   "display_name": "Python 3",
   "language": "python",
   "name": "python3"
  },
  "language_info": {
   "codemirror_mode": {
    "name": "ipython",
    "version": 3
   },
   "file_extension": ".py",
   "mimetype": "text/x-python",
   "name": "python",
   "nbconvert_exporter": "python",
   "pygments_lexer": "ipython3",
   "version": "3.7.3"
  }
 },
 "nbformat": 4,
 "nbformat_minor": 1
}
