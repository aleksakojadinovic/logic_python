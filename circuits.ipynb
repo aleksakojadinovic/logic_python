{
  "nbformat": 4,
  "nbformat_minor": 0,
  "metadata": {
    "colab": {
      "name": "LOGIKA.ipynb",
      "provenance": [],
      "collapsed_sections": []
    },
    "kernelspec": {
      "name": "python3",
      "display_name": "Python 3"
    }
  },
  "cells": [
    {
      "cell_type": "code",
      "metadata": {
        "id": "2kmA_lo62--1"
      },
      "source": [
        "import numpy as np\n",
        "import copy"
      ],
      "execution_count": 309,
      "outputs": []
    },
    {
      "cell_type": "code",
      "metadata": {
        "id": "C72xPwg2p6KQ"
      },
      "source": [
        "### Something that reacts to a signal\n",
        "class SignalSensitive:\n",
        "  # Gets triggered when the `at_index`-th\n",
        "  # input of a component\n",
        "  # receives a signal\n",
        "  def on_input_changed(self, at_index, signal):\n",
        "    raise NotImplementedError()\n",
        "\n",
        "### Info about an outgoing connection\n",
        "### The component is connected to the `at_index`-th input\n",
        "### of `to_component`\n",
        "class ConnectionInfo:\n",
        "  # to_index        :: Int\n",
        "  # to_component    :: Component -- or SignalSensitive\n",
        "  def __init__(self, to_index, to_component):\n",
        "    self.to_index = to_index\n",
        "    self.to_component = to_component\n",
        "\n",
        "  def notify(self, signal):\n",
        "    if self.to_component == None:\n",
        "      return\n",
        "    self.to_component.on_input_changed(self.to_index,\n",
        "                                       signal)\n",
        "    \n",
        "  def copy(self, already_copied = dict(), talk=False):\n",
        "    if talk:\n",
        "      print(f'[ConnectionInfo] Invoking copy on {self.to_component} of type {type(self)}')\n",
        "    if self == NoConnection or self.to_component is None:\n",
        "      return NoConnection\n",
        "    ci = ConnectionInfo(to_index=self.to_index,\n",
        "                        to_component=self.to_component.copy(already_copied))\n",
        "    return ci\n",
        "\n",
        "### Placeholder for empty slots\n",
        "NoConnection = ConnectionInfo(to_index=-1,\n",
        "                              to_component=None)"
      ],
      "execution_count": 310,
      "outputs": []
    },
    {
      "cell_type": "code",
      "metadata": {
        "id": "IR9rb9qInQGn"
      },
      "source": [
        "class Component(SignalSensitive):\n",
        "  # n_input_slots                 :: Int       \n",
        "  # n_output_slots                :: Int\n",
        "  # input_slots                   :: List<Signal>\n",
        "  # output_slots                  :: List<Signal>\n",
        "  # connections                   :: List<ConnectionInfo>\n",
        "  def __init__(self,\n",
        "               n_input_slots,\n",
        "               n_output_slots,\n",
        "               name='Unknown'):\n",
        "    self.n_input_slots = n_input_slots\n",
        "    self.n_output_slots = n_output_slots\n",
        "    self.input_slots = [False for _ in range(n_input_slots)]\n",
        "    self.output_slots = [False for _ in range(n_output_slots)]\n",
        "    self.connections = [NoConnection for _ in range(n_output_slots)]  \n",
        "    self.input_connections = [None for _ in range(n_input_slots)]\n",
        "\n",
        "  def connect_at_index(self, my_output_index, neighbor_input_index, neighbor):\n",
        "    if self.connections[my_output_index] != NoConnection:\n",
        "      raise ValueError(\"This slot is already connected to something\")\n",
        "    \n",
        "    self.connections[my_output_index] = ConnectionInfo(to_index=neighbor_input_index,\n",
        "                                                       to_component=neighbor)\n",
        "    neighbor.input_connections[neighbor_input_index] = self    \n",
        "    self.connections[my_output_index].notify(self.output_slots[my_output_index])  \n",
        "\n",
        "  def disconnect_at_index(self, my_output_index):\n",
        "    ### Sends an empty signal\n",
        "    self.connections[my_output_index].notify(False)\n",
        "    self.connections[my_output_index] = NoConnection\n",
        "\n",
        "  def get_shallow_copy_instance(self):\n",
        "    raise NotImplementedError(\"Raised shallow in component\")\n",
        "\n",
        "  def copy(self, already_copied=dict(), talk=False):\n",
        "    if talk:\n",
        "      print(f'[Component] Invoking copy on {self} of type {type(self)}')\n",
        "\n",
        "    my_id = id(self)\n",
        "    if my_id in already_copied:\n",
        "      return already_copied[my_id]\n",
        "    new_obj = self.get_shallow_copy_instance()\n",
        "    # Assume that input is already a new copy\n",
        "    new_obj.input_connections = [comp for comp in self.input_connections]\n",
        "    # Use that assumption for the recursive call\n",
        "    already_copied[my_id] = new_obj\n",
        "    new_obj.connections = [conn.copy(already_copied, talk) if conn is not None else None for conn in self.connections]\n",
        "    return new_obj\n",
        "\n",
        "  def khash(self):\n",
        "    return hex(id(self) % 200 + 13*(self.n_input_slots + 7*self.n_output_slots)**2)\n",
        "\n",
        "  def __str__(self):\n",
        "    return 'An unknown component'"
      ],
      "execution_count": 311,
      "outputs": []
    },
    {
      "cell_type": "code",
      "metadata": {
        "id": "bpaqDRbS3IbI"
      },
      "source": [
        "class Wire(Component):\n",
        "  def __init__(self,\n",
        "               orientation='horizontal'):\n",
        "    super(Wire, self).__init__(n_input_slots=1,\n",
        "                               n_output_slots=1)\n",
        "    self.orientation = orientation\n",
        "  \n",
        "  def resize(self, n):\n",
        "    if n == self.n_output_slots:\n",
        "      return\n",
        "    if n <= 0:\n",
        "      n = 1\n",
        "    if n < self.n_output_slots:\n",
        "      self.output_slots = self.output_slots[:n]\n",
        "      ## TODO: Traverse from n-th and send empty signal\n",
        "    else:\n",
        "      self.output_slots = self.output_slots + [False for _ in range(n - self.n_output_slots)]\n",
        "    self.n_output_slots = n\n",
        "  \n",
        "  def on_input_changed(self, at_index, signal):\n",
        "    if self.input_slots[at_index] == signal:\n",
        "      return\n",
        "    \n",
        "    self.input_slots[at_index] = signal\n",
        "    for conn in self.connections:\n",
        "      conn.notify(signal)\n",
        "  \n",
        "  def serialize(self):\n",
        "    return self.input_connections[0].serialize()\n",
        "\n",
        "  def get_shallow_copy_instance(self):\n",
        "    return Wire(orientation=self.orientation)\n",
        "\n",
        "  def __str__(self):\n",
        "    return self.khash() + ' (Wire)'\n",
        "\n"
      ],
      "execution_count": 312,
      "outputs": []
    },
    {
      "cell_type": "code",
      "metadata": {
        "id": "JHNB0ToMwes0"
      },
      "source": [
        "### Two inputs, one output\n",
        "class BinaryGate(Component):\n",
        "  # op :: (Signal, Signal) -> Signal\n",
        "  def __init__(self, op):\n",
        "    super(BinaryGate, self).__init__(n_input_slots=2,\n",
        "                                     n_output_slots=1)\n",
        "    self.op = op\n",
        "\n",
        "  def i1(self):\n",
        "    return self.input_slots[0]\n",
        "\n",
        "  def i2(self):\n",
        "    return self.input_slots[1]\n",
        "\n",
        "  def o(self):\n",
        "    return self.output_slots[0]\n",
        "\n",
        "  # wrapper\n",
        "  def connect_output(self, to_index, to_component):\n",
        "    self.connect_at_index(0, to_index, to_component)\n",
        "\n",
        "  def on_input_changed(self, at_index, signal):\n",
        "    if self.input_slots[at_index] == signal:\n",
        "      return\n",
        "    self.input_slots[at_index] = signal\n",
        "    new_output = self.op(self.i1(), self.i2())\n",
        "    if new_output == self.o():\n",
        "      return\n",
        "    self.output_slots[0] = new_output\n",
        "    for conn in self.connections:\n",
        "      conn.notify(new_output)\n",
        "\n",
        "\n"
      ],
      "execution_count": 313,
      "outputs": []
    },
    {
      "cell_type": "code",
      "metadata": {
        "id": "faXXRLW81FQo"
      },
      "source": [
        "class AndGate(BinaryGate):\n",
        "  def __init__(self):\n",
        "    super(AndGate, self).__init__(op = lambda a, b: a and b)\n",
        "  def __str__(self):\n",
        "    return self.khash() + ' (AND Gate)'\n",
        "  def get_shallow_copy_instance(self):\n",
        "    return AndGate()\n",
        "\n",
        "class OrGate(BinaryGate):\n",
        "  def __init__(self):\n",
        "    super(OrGate, self).__init__(op = lambda a, b: a or b)\n",
        "  def __str__(self):\n",
        "      return self.khash() + ' (OR Gate)'\n",
        "  def get_shallow_copy_instance(self):\n",
        "    return OrGate()\n",
        "\n",
        "class XorGate(BinaryGate):\n",
        "  def __init__(self):\n",
        "    super(XorGate, self).__init__(op = lambda a, b: a != b)\n",
        "  def __str__(self):\n",
        "      return self.khash() + ' (XOR Gate)'\n",
        "  def get_shallow_copy_instance(self):\n",
        "    return XorGate()"
      ],
      "execution_count": 314,
      "outputs": []
    },
    {
      "cell_type": "code",
      "metadata": {
        "id": "x8Y_3Dzi1yA5"
      },
      "source": [
        "class Pin(Component):\n",
        "  def __init__(self, val=False):\n",
        "    super(Pin, self).__init__(n_input_slots=0,\n",
        "                              n_output_slots=1)\n",
        "    self.output_slots[0] = val\n",
        "  \n",
        "  def flip(self):\n",
        "    self.output_slots[0] = not self.output_slots[0]\n",
        "    for conn in self.connections:\n",
        "      conn.notify(self.output_slots[0])\n",
        "  \n",
        "  def set_val(self, val):\n",
        "    if self.output_slots[0] == val:\n",
        "      return\n",
        "    self.flip()\n",
        "\n",
        "  def get_shallow_copy_instance(self):\n",
        "    return Pin(val=False)\n",
        "\n",
        "  def __str__(self):\n",
        "      return self.khash() + ' (Pin)'\n"
      ],
      "execution_count": 315,
      "outputs": []
    },
    {
      "cell_type": "code",
      "metadata": {
        "id": "_8dit1wB3PO9"
      },
      "source": [
        "class LightBulb(Component):\n",
        "  def __init__(self):\n",
        "    super(LightBulb, self).__init__(n_input_slots=1,\n",
        "                                    n_output_slots=1)\n",
        "  \n",
        "  def connect_at_index(self, at_index, to_component):\n",
        "    raise ValueError(\"Lightbulb cannot be connected to anything\")\n",
        "\n",
        "  def serialize(self):\n",
        "    return self.input_connections[0].serialize()\n",
        "\n",
        "  def on_input_changed(self, at_index, signal):\n",
        "    self.input_slots[at_index] = signal\n",
        "    self.output_slots[at_index] = signal\n",
        "\n",
        "  def get_shallow_copy_instance(self):\n",
        "    return LightBulb()\n",
        "\n",
        "  def __str__(self):\n",
        "      return self.khash() + ' (LightBulb)'\n"
      ],
      "execution_count": 316,
      "outputs": []
    },
    {
      "cell_type": "code",
      "metadata": {
        "id": "jzXdx_aHt2fW"
      },
      "source": [
        "class CompositeComponent(Component):\n",
        "  def __init__(self, pins, lightbulbs):\n",
        "    super(CompositeComponent, self).__init__(n_input_slots=len(pins),\n",
        "                                             n_output_slots=len(lightbulbs))\n",
        "    \n",
        "    self.pins = [p.copy() for p in pins]\n",
        "    self.lightbulbs = [lb.copy() for lb in lightbulbs]\n",
        "    \n",
        "  \n",
        "  def on_input_changed(self, at_index, signal):\n",
        "    snapshot = [o for o in lb.output_slots]\n",
        "    self.pins[at_index].on_input_changed(at_index=0,\n",
        "                                         signal=signal)\n",
        "    for i, old_signal, new_signal in enumerate(zip(snapshot, self.lightbulbs)):\n",
        "      if old_signal == new_signal:\n",
        "        continue\n",
        "      self.connections[i].notify(new_signal)\n",
        "\n",
        "  def connect_at_index(self, my_output_index, neighbor_input_index, neighbor):\n",
        "    pass\n",
        "      \n",
        "\n",
        "    \n",
        "\n",
        "\n",
        "  def get_shallow_copy_instance(self):\n",
        "    pass\n",
        "\n",
        "  # @Override\n",
        "  def copy(self):\n",
        "    # TODO: Figure this out!\n",
        "    pass\n",
        "\n",
        "  def __str__(self):\n",
        "      return self.khash() + ' (Composite)'\n",
        "\n",
        "  "
      ],
      "execution_count": 317,
      "outputs": []
    },
    {
      "cell_type": "code",
      "metadata": {
        "id": "w44Ryuxv4VRI",
        "outputId": "e0597308-7597-4f21-9038-15ae28ce03d7",
        "colab": {
          "base_uri": "https://localhost:8080/"
        }
      },
      "source": [
        "A0 = Pin(False)\n",
        "A0.name = 'A0'\n",
        "A1 = Pin(False)\n",
        "A1.name = 'A1'\n",
        "A2 = Pin(False)\n",
        "A2.name = \"A2\"\n",
        "\n",
        "and1 = AndGate()\n",
        "xor1 = XorGate()\n",
        "\n",
        "w1 = Wire()\n",
        "w1.resize(2)\n",
        "\n",
        "w2 = Wire()\n",
        "w2.resize(2)\n",
        "\n",
        "w3 = Wire()\n",
        "w3.resize(2)\n",
        "\n",
        "w4 = Wire()\n",
        "w4.resize(2)\n",
        "\n",
        "lb = LightBulb()\n",
        "\n",
        "A0.connect_at_index(my_output_index=0,\n",
        "                    neighbor_input_index=0,\n",
        "                    neighbor=w1)\n",
        "\n",
        "A1.connect_at_index(my_output_index=0,\n",
        "                    neighbor_input_index=0,\n",
        "                    neighbor=w2)\n",
        "\n",
        "A2.connect_at_index(my_output_index=0,\n",
        "                    neighbor_input_index=0,\n",
        "                    neighbor=w3)\n",
        "\n",
        "w1.connect_at_index(my_output_index=0,\n",
        "                    neighbor_input_index=0,\n",
        "                    neighbor=and1)\n",
        "\n",
        "w2.connect_at_index(my_output_index=0,\n",
        "                    neighbor_input_index=1,\n",
        "                    neighbor=and1)\n",
        "\n",
        "w3.connect_at_index(my_output_index=0,\n",
        "                    neighbor_input_index=1,\n",
        "                    neighbor=xor1)\n",
        "\n",
        "and1.connect_at_index(my_output_index=0,\n",
        "                      neighbor_input_index=0,\n",
        "                      neighbor=xor1)\n",
        "\n",
        "xor1.connect_at_index(my_output_index=0,\n",
        "                      neighbor_input_index=0,\n",
        "                      neighbor=w4)\n",
        "\n",
        "w4.connect_at_index(my_output_index=0,\n",
        "                    neighbor_input_index=0,\n",
        "                    neighbor=lb)\n",
        "\n",
        "print(lb.output_slots)\n",
        "A0.flip()\n",
        "A1.flip()\n",
        "print(lb.output_slots)"
      ],
      "execution_count": 318,
      "outputs": [
        {
          "output_type": "stream",
          "text": [
            "[False]\n",
            "[True]\n"
          ],
          "name": "stdout"
        }
      ]
    },
    {
      "cell_type": "code",
      "metadata": {
        "id": "z81jsCBLv4Je"
      },
      "source": [
        "def traverse_circuit(element, depth=0):\n",
        "  # idd = id(element)\n",
        "  # idd = element.identify()\n",
        "  # idd = hex(id(element))\n",
        "  print(''.join('\\t'*depth),'-->', element)\n",
        "  for c in element.connections:\n",
        "    if c is None or c.to_component is None:\n",
        "      continue\n",
        "    traverse_circuit(c.to_component, depth+1)"
      ],
      "execution_count": 319,
      "outputs": []
    },
    {
      "cell_type": "code",
      "metadata": {
        "id": "THcrWLO0fqP_",
        "outputId": "97fdf9b4-c160-4f1a-8cad-e1dc576e5fd6",
        "colab": {
          "base_uri": "https://localhost:8080/"
        }
      },
      "source": [
        "traverse_circuit(A0)\n",
        "traverse_circuit(A1)\n",
        "traverse_circuit(A2)"
      ],
      "execution_count": 320,
      "outputs": [
        {
          "output_type": "stream",
          "text": [
            " --> 0x2bd (Pin)\n",
            "\t --> 0xc05 (Wire)\n",
            "\t\t --> 0x495 (AND Gate)\n",
            "\t\t\t --> 0x435 (XOR Gate)\n",
            "\t\t\t\t --> 0xbcd (Wire)\n",
            "\t\t\t\t\t --> 0x368 (LightBulb)\n",
            " --> 0x2fd (Pin)\n",
            "\t --> 0xbd5 (Wire)\n",
            "\t\t --> 0x495 (AND Gate)\n",
            "\t\t\t --> 0x435 (XOR Gate)\n",
            "\t\t\t\t --> 0xbcd (Wire)\n",
            "\t\t\t\t\t --> 0x368 (LightBulb)\n",
            " --> 0x33d (Pin)\n",
            "\t --> 0xc0d (Wire)\n",
            "\t\t --> 0x435 (XOR Gate)\n",
            "\t\t\t --> 0xbcd (Wire)\n",
            "\t\t\t\t --> 0x368 (LightBulb)\n"
          ],
          "name": "stdout"
        }
      ]
    },
    {
      "cell_type": "code",
      "metadata": {
        "id": "hzij0W9500hc",
        "outputId": "b34acd02-0b5b-4b40-fb66-e9b07f491708",
        "colab": {
          "base_uri": "https://localhost:8080/"
        }
      },
      "source": [
        "composite = CompositeComponent(pins=[A0, A1, A2],\n",
        "                               lightbulbs=[lb])\n",
        "\n",
        "traverse_circuit(composite.pins[0])\n",
        "traverse_circuit(composite.pins[1])\n",
        "traverse_circuit(composite.pins[2])\n",
        "\n",
        "# print(f'Idevi originalnih pinova: {[id(p) for p in [A0, A1, A2]]}')\n",
        "# print(f'Idevi novih pinova: {[id(p) for p in composite.pins]}')"
      ],
      "execution_count": 322,
      "outputs": [
        {
          "output_type": "stream",
          "text": [
            " --> 0x315 (Pin)\n",
            "\t --> 0x368 (Wire)\n",
            "\t\t --> 0x4cd (AND Gate)\n",
            "\t\t\t --> 0x475 (XOR Gate)\n",
            "\t\t\t\t --> 0x3e0 (Wire)\n",
            "\t\t\t\t\t --> 0x360 (LightBulb)\n",
            " --> 0x315 (Pin)\n",
            "\t --> 0x3f8 (Wire)\n",
            "\t\t --> 0x4cd (AND Gate)\n",
            "\t\t\t --> 0x475 (XOR Gate)\n",
            "\t\t\t\t --> 0x3e0 (Wire)\n",
            "\t\t\t\t\t --> 0x360 (LightBulb)\n",
            " --> 0x32d (Pin)\n",
            "\t --> 0x3f0 (Wire)\n",
            "\t\t --> 0x475 (XOR Gate)\n",
            "\t\t\t --> 0x3e0 (Wire)\n",
            "\t\t\t\t --> 0x360 (LightBulb)\n"
          ],
          "name": "stdout"
        }
      ]
    },
    {
      "cell_type": "code",
      "metadata": {
        "id": "VZY_JInv1OIN",
        "outputId": "e5a1e0d2-fede-400e-bd60-6d8213cdcce9",
        "colab": {
          "base_uri": "https://localhost:8080/"
        }
      },
      "source": [
        ""
      ],
      "execution_count": 324,
      "outputs": [
        {
          "output_type": "stream",
          "text": [
            "fatal: not a git repository (or any of the parent directories): .git\n"
          ],
          "name": "stdout"
        }
      ]
    }
  ]
}